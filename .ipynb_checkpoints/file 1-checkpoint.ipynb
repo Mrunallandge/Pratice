{
 "cells": [
  {
   "cell_type": "code",
   "execution_count": 1,
   "id": "7cae9b10",
   "metadata": {},
   "outputs": [],
   "source": [
    "class arithematic_operations:\n",
    "    def add(self,a,b):\n",
    "        print(f'addition of {a} and {b} is {a+b}')\n",
    "    def mul(self,a,b):\n",
    "        print(f'multiplication of {a} and {b} is {a*b}')"
   ]
  },
  {
   "cell_type": "code",
   "execution_count": 3,
   "id": "a0aeef26",
   "metadata": {},
   "outputs": [
    {
     "name": "stdout",
     "output_type": "stream",
     "text": [
      "addition of 10 and 20 is 30\n",
      "multiplication of 10 and 20 is 200\n"
     ]
    }
   ],
   "source": [
    "obj = arithematic_operations()\n",
    "obj.add(10,20)\n",
    "obj.mul(10,20)"
   ]
  },
  {
   "cell_type": "code",
   "execution_count": 54,
   "id": "3df1f95d",
   "metadata": {},
   "outputs": [],
   "source": [
    "# decorator\n",
    "\n",
    "def addition(func):\n",
    "    func(a)\n",
    "    def main(a):\n",
    "        total = 0\n",
    "        for i in a:\n",
    "            total = total+i\n",
    "        print(f'addition of {a} is {total}')\n",
    "    return main"
   ]
  },
  {
   "cell_type": "code",
   "execution_count": 55,
   "id": "336fd176",
   "metadata": {},
   "outputs": [
    {
     "name": "stdout",
     "output_type": "stream",
     "text": [
      "\n"
     ]
    }
   ],
   "source": [
    "@addition\n",
    "def sample(a):\n",
    "    print()"
   ]
  },
  {
   "cell_type": "code",
   "execution_count": 59,
   "id": "8eedf8d6",
   "metadata": {},
   "outputs": [
    {
     "name": "stdout",
     "output_type": "stream",
     "text": [
      "addition of [10, 20, 30] is 60\n"
     ]
    }
   ],
   "source": [
    "n = [10,20,30]\n",
    "sample(n)"
   ]
  },
  {
   "cell_type": "code",
   "execution_count": 61,
   "id": "d806ba85",
   "metadata": {},
   "outputs": [
    {
     "name": "stdout",
     "output_type": "stream",
     "text": [
      "[(1, 'Akash', 45678), (1, 'jon', 34000), (103, 'Anthony', 50000), (4, 'monish', 30000), (2, 'Amit', 34500), (2, 'Amit', 34500), (3, 'Snehal', 40000)]\n",
      "(1, 'Akash', 45678)\n",
      "(1, 'jon', 34000)\n",
      "(103, 'Anthony', 50000)\n",
      "(4, 'monish', 30000)\n",
      "(2, 'Amit', 34500)\n",
      "(2, 'Amit', 34500)\n",
      "(3, 'Snehal', 40000)\n"
     ]
    }
   ],
   "source": [
    "# data base connection\n",
    "import mysql.connector\n",
    "mydb = mysql.connector.connect(host='localhost',user='root',password='Root@1234@',database='sql_conn')\n",
    "cur = mydb.cursor()\n",
    "q = 'select * from sql_emp'\n",
    "cur.execute(q)\n",
    "data = cur.fetchall()\n",
    "print(data)\n",
    "for d in data:\n",
    "    print(d)"
   ]
  },
  {
   "cell_type": "code",
   "execution_count": 63,
   "id": "c7f60ec5",
   "metadata": {},
   "outputs": [],
   "source": [
    "# lambda\n",
    "\n",
    "a = lambda x,y :x+y"
   ]
  },
  {
   "cell_type": "code",
   "execution_count": 64,
   "id": "82a2e4fd",
   "metadata": {},
   "outputs": [
    {
     "data": {
      "text/plain": [
       "30"
      ]
     },
     "execution_count": 64,
     "metadata": {},
     "output_type": "execute_result"
    }
   ],
   "source": [
    "a(10,20)"
   ]
  },
  {
   "cell_type": "code",
   "execution_count": 65,
   "id": "7c0ea43c",
   "metadata": {},
   "outputs": [],
   "source": [
    "tables = [lambda x=x: x*10 for x in range(1, 11)]"
   ]
  },
  {
   "cell_type": "code",
   "execution_count": 69,
   "id": "53ad1db6",
   "metadata": {},
   "outputs": [
    {
     "name": "stdout",
     "output_type": "stream",
     "text": [
      "10\n",
      "20\n",
      "30\n",
      "40\n",
      "50\n",
      "60\n",
      "70\n",
      "80\n",
      "90\n",
      "100\n"
     ]
    }
   ],
   "source": [
    "for t in tables:\n",
    "    print(t())"
   ]
  },
  {
   "cell_type": "code",
   "execution_count": 70,
   "id": "e5e3d2e4",
   "metadata": {},
   "outputs": [
    {
     "name": "stdout",
     "output_type": "stream",
     "text": [
      "2\n"
     ]
    }
   ],
   "source": [
    "Max = lambda a, b : a if(a > b) else b\n",
    "print(Max(1, 2))"
   ]
  },
  {
   "cell_type": "code",
   "execution_count": 78,
   "id": "40140113",
   "metadata": {},
   "outputs": [],
   "source": [
    "# map \n",
    "def power(n):\n",
    "     return n**n\n",
    "\n",
    "l = [1,2,3,4,5,6] \n",
    "d = list(map(power,l))"
   ]
  },
  {
   "cell_type": "code",
   "execution_count": 79,
   "id": "f9870ec0",
   "metadata": {},
   "outputs": [
    {
     "data": {
      "text/plain": [
       "[1, 4, 27, 256, 3125, 46656]"
      ]
     },
     "execution_count": 79,
     "metadata": {},
     "output_type": "execute_result"
    }
   ],
   "source": [
    "d"
   ]
  },
  {
   "cell_type": "code",
   "execution_count": 80,
   "id": "04a5ad2e",
   "metadata": {},
   "outputs": [
    {
     "data": {
      "text/plain": [
       "[73, 10, 40, 8]"
      ]
     },
     "execution_count": 80,
     "metadata": {},
     "output_type": "execute_result"
    }
   ],
   "source": [
    "d1 = [67,4,32,1]\n",
    "d2 = [6,6,8,7]\n",
    "\n",
    "d3 = list(map(lambda x,y: x+y, d1,d2))\n",
    "d3"
   ]
  },
  {
   "cell_type": "code",
   "execution_count": 81,
   "id": "01abd364",
   "metadata": {},
   "outputs": [],
   "source": [
    "# filter\n",
    "def func(string):\n",
    "    letters = ['a','e','i','o','u']\n",
    "    if string in letters:\n",
    "        print(string)"
   ]
  },
  {
   "cell_type": "code",
   "execution_count": 89,
   "id": "a8dfdc5f",
   "metadata": {},
   "outputs": [],
   "source": [
    "a = 'this is a python programing'\n",
    "fil = filter(func, a)"
   ]
  },
  {
   "cell_type": "code",
   "execution_count": 90,
   "id": "1a538f45",
   "metadata": {},
   "outputs": [
    {
     "name": "stdout",
     "output_type": "stream",
     "text": [
      "i\n",
      "i\n",
      "a\n",
      "o\n",
      "o\n",
      "a\n",
      "i\n"
     ]
    }
   ],
   "source": [
    "for i in fil:\n",
    "    print(i)"
   ]
  },
  {
   "cell_type": "code",
   "execution_count": 94,
   "id": "22bdc4e6",
   "metadata": {},
   "outputs": [
    {
     "data": {
      "text/plain": [
       "1015"
      ]
     },
     "execution_count": 94,
     "metadata": {},
     "output_type": "execute_result"
    }
   ],
   "source": [
    "# Reduce\n",
    "from functools import reduce\n",
    "b = [234,4,55,676,43,3]\n",
    "a = reduce(lambda x,y:x+y,b)\n",
    "a"
   ]
  },
  {
   "cell_type": "code",
   "execution_count": null,
   "id": "0acea19c",
   "metadata": {},
   "outputs": [],
   "source": [
    "# Code optimizations techniques"
   ]
  },
  {
   "cell_type": "code",
   "execution_count": 97,
   "id": "d673fc1a",
   "metadata": {},
   "outputs": [
    {
     "name": "stdout",
     "output_type": "stream",
     "text": [
      "[0, 2, 4, 6, 8, 10]\n"
     ]
    }
   ],
   "source": [
    "# list compr\n",
    "list = [i for i in range(11) if i%2==0]\n",
    "print(list)"
   ]
  },
  {
   "cell_type": "code",
   "execution_count": 100,
   "id": "df8c28b7",
   "metadata": {},
   "outputs": [],
   "source": [
    "matrix = [[j for j in range(3)] for i in range(3)]"
   ]
  },
  {
   "cell_type": "code",
   "execution_count": 101,
   "id": "6851a0d7",
   "metadata": {},
   "outputs": [
    {
     "data": {
      "text/plain": [
       "[[0, 1, 2], [0, 1, 2], [0, 1, 2]]"
      ]
     },
     "execution_count": 101,
     "metadata": {},
     "output_type": "execute_result"
    }
   ],
   "source": [
    "matrix"
   ]
  },
  {
   "cell_type": "code",
   "execution_count": 104,
   "id": "330835d2",
   "metadata": {},
   "outputs": [
    {
     "data": {
      "text/plain": [
       "{1: 10, 2: 20, 3: 30, 4: 40}"
      ]
     },
     "execution_count": 104,
     "metadata": {},
     "output_type": "execute_result"
    }
   ],
   "source": [
    "# dict comprehension\n",
    "k = [1,2,3,4]\n",
    "v = [10,20,30,40]\n",
    "\n",
    "d = {i:j for i,j in zip(k,v)}\n",
    "d"
   ]
  },
  {
   "cell_type": "code",
   "execution_count": 105,
   "id": "50377938",
   "metadata": {},
   "outputs": [
    {
     "data": {
      "text/plain": [
       "{0: 1, 1: 1, 2: 4, 3: 27, 4: 256}"
      ]
     },
     "execution_count": 105,
     "metadata": {},
     "output_type": "execute_result"
    }
   ],
   "source": [
    "d = {i:i**i for i in range(5)}\n",
    "d"
   ]
  },
  {
   "cell_type": "code",
   "execution_count": 106,
   "id": "add05ee5",
   "metadata": {},
   "outputs": [
    {
     "data": {
      "text/plain": [
       "{'A': 'aaa', 'B': 'bbb', 'C': 'ccc', 'D': 'ddd'}"
      ]
     },
     "execution_count": 106,
     "metadata": {},
     "output_type": "execute_result"
    }
   ],
   "source": [
    "d = {i.upper():i*3 for i in 'abcd'}\n",
    "d"
   ]
  },
  {
   "cell_type": "code",
   "execution_count": 130,
   "id": "310e1a97",
   "metadata": {},
   "outputs": [],
   "source": [
    "# generator\n",
    "k = (i for i in range(100))"
   ]
  },
  {
   "cell_type": "code",
   "execution_count": 133,
   "id": "0e6e0db6",
   "metadata": {},
   "outputs": [
    {
     "data": {
      "text/plain": [
       "2"
      ]
     },
     "execution_count": 133,
     "metadata": {},
     "output_type": "execute_result"
    }
   ],
   "source": [
    "next(k)"
   ]
  },
  {
   "cell_type": "code",
   "execution_count": 259,
   "id": "bbb0b22e",
   "metadata": {},
   "outputs": [],
   "source": [
    "def test():\n",
    "    yield 'python'\n",
    "    yield 'c'\n",
    "    yield 'c++'\n",
    "    yield 'java'"
   ]
  },
  {
   "cell_type": "code",
   "execution_count": 260,
   "id": "10729a4b",
   "metadata": {},
   "outputs": [],
   "source": [
    "r = test()"
   ]
  },
  {
   "cell_type": "code",
   "execution_count": 261,
   "id": "dd2d2686",
   "metadata": {},
   "outputs": [
    {
     "data": {
      "text/plain": [
       "'python'"
      ]
     },
     "execution_count": 261,
     "metadata": {},
     "output_type": "execute_result"
    }
   ],
   "source": [
    "next(r)"
   ]
  },
  {
   "cell_type": "code",
   "execution_count": 262,
   "id": "bd74c2d0",
   "metadata": {},
   "outputs": [],
   "source": [
    "def nextno():\n",
    "    for i in range(10):\n",
    "        yield i"
   ]
  },
  {
   "cell_type": "code",
   "execution_count": 263,
   "id": "e32b2018",
   "metadata": {},
   "outputs": [],
   "source": [
    "a = nextno()"
   ]
  },
  {
   "cell_type": "code",
   "execution_count": 266,
   "id": "cbe23a59",
   "metadata": {},
   "outputs": [
    {
     "data": {
      "text/plain": [
       "1"
      ]
     },
     "execution_count": 266,
     "metadata": {},
     "output_type": "execute_result"
    }
   ],
   "source": [
    "next(a)"
   ]
  },
  {
   "cell_type": "code",
   "execution_count": 268,
   "id": "1497c1da",
   "metadata": {},
   "outputs": [
    {
     "name": "stdout",
     "output_type": "stream",
     "text": [
      "Error occured Fle Not Found\n",
      "program run succesfully\n"
     ]
    }
   ],
   "source": [
    "# os \n",
    "import os\n",
    "try:\n",
    "    with open('abcd.text','r') as fp:\n",
    "        data = fp.read()\n",
    "        print(data)\n",
    "except FileNotFoundError:\n",
    "    print('Error occured Fle Not Found')\n",
    "else:\n",
    "    print('file run')\n",
    "finally:\n",
    "    print('program run succesfully')"
   ]
  },
  {
   "cell_type": "code",
   "execution_count": 274,
   "id": "c0f27796",
   "metadata": {},
   "outputs": [],
   "source": [
    "# data transforming language\n",
    "\n",
    "# pickle\n",
    "\n",
    "import pickle\n",
    "data = {'A': 'aaa', 'B': 'bbb', 'C': 'ccc', 'D': 'ddd'}\n",
    "with open ('abcd','wb') as fp:\n",
    "    pickle.dump(data,fp)"
   ]
  },
  {
   "cell_type": "code",
   "execution_count": 275,
   "id": "57552d57",
   "metadata": {},
   "outputs": [
    {
     "name": "stdout",
     "output_type": "stream",
     "text": [
      "{'A': 'aaa', 'B': 'bbb', 'C': 'ccc', 'D': 'ddd'}\n"
     ]
    }
   ],
   "source": [
    "with open ('abcd','rb') as fp:\n",
    "    data = pickle.load(fp)\n",
    "    print(data)"
   ]
  },
  {
   "cell_type": "code",
   "execution_count": 280,
   "id": "0903ba91",
   "metadata": {},
   "outputs": [
    {
     "data": {
      "text/plain": [
       "'{\"A\": \"aaa\", \"B\": \"bbb\", \"C\": \"ccc\", \"D\": \"ddd\"}'"
      ]
     },
     "execution_count": 280,
     "metadata": {},
     "output_type": "execute_result"
    }
   ],
   "source": [
    "# json\n",
    "import json\n",
    "data = {'A': 'aaa', 'B': 'bbb', 'C': 'ccc', 'D': 'ddd'}\n",
    "with open ('abcd.json',\"w\") as fp:\n",
    "    json.dump(data,fp)\n",
    "\n",
    "json.dumps(data)    "
   ]
  },
  {
   "cell_type": "code",
   "execution_count": 281,
   "id": "8b4ac304",
   "metadata": {},
   "outputs": [
    {
     "name": "stdout",
     "output_type": "stream",
     "text": [
      "{'A': 'aaa', 'B': 'bbb', 'C': 'ccc', 'D': 'ddd'}\n"
     ]
    }
   ],
   "source": [
    "with open ('abcd.json','r') as fp:\n",
    "    data = json.load(fp)\n",
    "    print(data)\n"
   ]
  },
  {
   "cell_type": "code",
   "execution_count": 286,
   "id": "05f4456e",
   "metadata": {},
   "outputs": [
    {
     "name": "stdout",
     "output_type": "stream",
     "text": [
      "0.44996859780230725\n"
     ]
    }
   ],
   "source": [
    "# random\n",
    "\n",
    "from random import *\n",
    "print(random())"
   ]
  },
  {
   "cell_type": "code",
   "execution_count": 303,
   "id": "af197208",
   "metadata": {},
   "outputs": [],
   "source": [
    "from random import randint,randrange,uniform,choice"
   ]
  },
  {
   "cell_type": "code",
   "execution_count": 306,
   "id": "a84f5463",
   "metadata": {},
   "outputs": [
    {
     "name": "stdout",
     "output_type": "stream",
     "text": [
      "18\n",
      "108\n",
      "3.0347953026039796\n",
      "54\n"
     ]
    }
   ],
   "source": [
    "print(randint(10,20))\n",
    "print(randrange(100,200,2))\n",
    "print(uniform(1,5))\n",
    "\n",
    "l = [12,23,43,455,88,9,56,54,23]\n",
    "print(choice(l))"
   ]
  },
  {
   "cell_type": "code",
   "execution_count": 307,
   "id": "dc16420e",
   "metadata": {},
   "outputs": [],
   "source": [
    "# class and objects\n",
    "\n",
    "class emp():\n",
    "    def __init__(self,id,name):\n",
    "        self.id=id\n",
    "        self.name=name\n",
    "    def show(self,city):\n",
    "        self.city = city\n",
    "        print(self.id)\n",
    "        print(self.name)\n",
    "        print(self.city)"
   ]
  },
  {
   "cell_type": "code",
   "execution_count": 309,
   "id": "2298cd5e",
   "metadata": {},
   "outputs": [],
   "source": [
    "obj = emp(101,'ak')"
   ]
  },
  {
   "cell_type": "code",
   "execution_count": 312,
   "id": "b6b2a80b",
   "metadata": {},
   "outputs": [
    {
     "name": "stdout",
     "output_type": "stream",
     "text": [
      "101\n",
      "ak\n",
      "pune\n"
     ]
    }
   ],
   "source": [
    "obj.show('pune')"
   ]
  },
  {
   "cell_type": "code",
   "execution_count": 321,
   "id": "1f5d8f99",
   "metadata": {},
   "outputs": [],
   "source": [
    "# 3.\n",
    "class employee:\n",
    "    def __init__ (self,id,name):\n",
    "        self.id = id\n",
    "        self.name = name\n",
    "    def show(self, city):\n",
    "        self.city = city\n",
    "        print(self.id)\n",
    "        print(self.name)\n",
    "        print(self.city)\n",
    "    def dispaly(self,sal):\n",
    "        self.sal = sal\n",
    "        new_sal = 1.30*self.sal\n",
    "        print(self.id)\n",
    "        print(self.name)\n",
    "        print(self.sal)\n",
    "        print(new_sal)"
   ]
  },
  {
   "cell_type": "code",
   "execution_count": 322,
   "id": "0435eac1",
   "metadata": {},
   "outputs": [],
   "source": [
    "obj = employee(101,'ak')"
   ]
  },
  {
   "cell_type": "code",
   "execution_count": 323,
   "id": "2b623c2c",
   "metadata": {},
   "outputs": [
    {
     "name": "stdout",
     "output_type": "stream",
     "text": [
      "101\n",
      "ak\n",
      "20000\n",
      "26000.0\n"
     ]
    }
   ],
   "source": [
    "obj.dispaly(20000)"
   ]
  },
  {
   "cell_type": "code",
   "execution_count": 327,
   "id": "7cdc7179",
   "metadata": {},
   "outputs": [],
   "source": [
    "# class method\n",
    "\n",
    "class imp():\n",
    "    a = 10\n",
    "    @classmethod\n",
    "    def meth(axe,id,name):\n",
    "        print(id)\n",
    "        print(name)\n",
    "        print(a)\n",
    "        print(axe.a)"
   ]
  },
  {
   "cell_type": "code",
   "execution_count": 328,
   "id": "c2fb9927",
   "metadata": {},
   "outputs": [
    {
     "name": "stdout",
     "output_type": "stream",
     "text": [
      "1091\n",
      "aka\n",
      "<generator object nextno at 0x00000178CFC1EF90>\n",
      "10\n"
     ]
    }
   ],
   "source": [
    "imp.meth(1091,'aka')"
   ]
  },
  {
   "cell_type": "code",
   "execution_count": null,
   "id": "8aa0d0e2",
   "metadata": {},
   "outputs": [],
   "source": []
  }
 ],
 "metadata": {
  "kernelspec": {
   "display_name": "Python 3",
   "language": "python",
   "name": "python3"
  },
  "language_info": {
   "codemirror_mode": {
    "name": "ipython",
    "version": 3
   },
   "file_extension": ".py",
   "mimetype": "text/x-python",
   "name": "python",
   "nbconvert_exporter": "python",
   "pygments_lexer": "ipython3",
   "version": "3.8.8"
  }
 },
 "nbformat": 4,
 "nbformat_minor": 5
}
